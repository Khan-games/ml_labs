{
 "cells": [
  {
   "cell_type": "markdown",
   "metadata": {},
   "source": [
    "## Лабораторна робота №2 “EDA and Supervised Learning”"
   ]
  },
  {
   "cell_type": "markdown",
   "metadata": {},
   "source": [
    "<b>Мета</b>: навчитись робити розвідку даних (Exploratory Data Analysis - EDA) та використовувати інструменти для моделювання при навчанні з вчителем (Supervised Learning)."
   ]
  },
  {
   "cell_type": "markdown",
   "metadata": {},
   "source": [
    "### Завдання"
   ]
  },
  {
   "cell_type": "markdown",
   "metadata": {},
   "source": [
    "1. Прочитати опис та викачати дані з Kaggle змагання https://www.kaggle.com/c/homecredit-default-risk/data. Опис колонок знаходиться у файлі\n",
    "HomeCredit_columns_description.csv.\n",
    "2. Для лабораторної роботи достатньо працювати лише з таблицями\n",
    "“application_{train|test}.csv”. З’єднувати інші таблиці не потрібно.\n",
    "3. Провести EDA на таблицях “application_{train|test}.csv”: про що ці дані, які розподіли\n",
    "колонок, скільки missing values, наскільки збалансовані дані, яким чином обробити\n",
    "missing values, чим відрізняються train/test, ...?\n",
    "4. Побудувати класифікатор на основі проаналізованих даних. Дозволяється\n",
    "використати будь-який з відомих Вам методів (наприклад за допомогою https://scikitlearn.org/stable/supervised_learning.html). Для оцінки якості натренованої моделі\n",
    "використати train-val-split, тобто відкласти частину “application_train.csv” для\n",
    "валідації. Метрика - ROC_AUC.\n",
    "5. Класифікувати дані з файла application_test.csv, записати результат в submission\n",
    "файл за прикладом “sample_submission.csv”.\n",
    "6. Залити submission файл на платформу в “Leaderboard”->“Late Submission”, отримати\n",
    "результат - оцінку, зробити знімок екрану і додати його до фінального ноутбука."
   ]
  },
  {
   "cell_type": "markdown",
   "metadata": {},
   "source": [
    "### Вимоги"
   ]
  },
  {
   "cell_type": "markdown",
   "metadata": {},
   "source": [
    "Лабораторна повинна бути оформлена у вигляді Jupyter Notebook, який можна\n",
    "виконати локально, або Kaggle Notebook, або Google Collab. У всіх випадках для здачі\n",
    "потрібно надіслати посилання на ноутбук на GitHub/Kaggle/Collab.\n",
    "Теоретичний базис для виконання лабораторної - лекції №1-№6, але можна\n",
    "використати і методи з наступних лекцій - №7, №10."
   ]
  },
  {
   "cell_type": "markdown",
   "metadata": {},
   "source": [
    "## Хід виконання"
   ]
  },
  {
   "cell_type": "code",
   "execution_count": 1,
   "metadata": {},
   "outputs": [],
   "source": [
    "import pandas as pd\n",
    "import numpy as np\n",
    "import matplotlib.pyplot as plt\n",
    "from sklearn.experimental import enable_iterative_imputer\n",
    "from sklearn.impute import IterativeImputer\n",
    "from sklearn.preprocessing import LabelEncoder, OrdinalEncoder\n",
    "import sklearn.preprocessing as prep\n",
    "import warnings\n",
    "import logging\n",
    "import sklearn.covariance as cov\n",
    "from scipy.stats import chi2\n",
    "from itertools import product\n",
    "import seaborn as sns\n",
    "import random\n",
    "from sklearn.preprocessing import normalize, StandardScaler\n",
    "from sklearn.model_selection import train_test_split\n",
    "\n",
    "# отключение логгеров и предупреждений\n",
    "warnings.filterwarnings('ignore')\n",
    "logging.getLogger('matplotlib.font_manager').disabled = True\n",
    "log = logging.getLogger()\n",
    "log.setLevel(logging.CRITICAL)"
   ]
  },
  {
   "cell_type": "markdown",
   "metadata": {},
   "source": [
    "### Завантаження даних"
   ]
  },
  {
   "cell_type": "code",
   "execution_count": 2,
   "metadata": {},
   "outputs": [],
   "source": [
    "df_train = pd.read_csv('train_data.csv')\n",
    "df_test  = pd.read_csv('test_data.csv')"
   ]
  },
  {
   "cell_type": "code",
   "execution_count": 3,
   "metadata": {},
   "outputs": [
    {
     "data": {
      "text/html": [
       "<div>\n",
       "<style scoped>\n",
       "    .dataframe tbody tr th:only-of-type {\n",
       "        vertical-align: middle;\n",
       "    }\n",
       "\n",
       "    .dataframe tbody tr th {\n",
       "        vertical-align: top;\n",
       "    }\n",
       "\n",
       "    .dataframe thead th {\n",
       "        text-align: right;\n",
       "    }\n",
       "</style>\n",
       "<table border=\"1\" class=\"dataframe\">\n",
       "  <thead>\n",
       "    <tr style=\"text-align: right;\">\n",
       "      <th></th>\n",
       "      <th>SK_ID_CURR</th>\n",
       "      <th>TARGET</th>\n",
       "      <th>NAME_CONTRACT_TYPE</th>\n",
       "      <th>CODE_GENDER</th>\n",
       "      <th>FLAG_OWN_CAR</th>\n",
       "      <th>FLAG_OWN_REALTY</th>\n",
       "      <th>CNT_CHILDREN</th>\n",
       "      <th>AMT_INCOME_TOTAL</th>\n",
       "      <th>AMT_CREDIT</th>\n",
       "      <th>AMT_ANNUITY</th>\n",
       "      <th>...</th>\n",
       "      <th>FLAG_DOCUMENT_18</th>\n",
       "      <th>FLAG_DOCUMENT_19</th>\n",
       "      <th>FLAG_DOCUMENT_20</th>\n",
       "      <th>FLAG_DOCUMENT_21</th>\n",
       "      <th>AMT_REQ_CREDIT_BUREAU_HOUR</th>\n",
       "      <th>AMT_REQ_CREDIT_BUREAU_DAY</th>\n",
       "      <th>AMT_REQ_CREDIT_BUREAU_WEEK</th>\n",
       "      <th>AMT_REQ_CREDIT_BUREAU_MON</th>\n",
       "      <th>AMT_REQ_CREDIT_BUREAU_QRT</th>\n",
       "      <th>AMT_REQ_CREDIT_BUREAU_YEAR</th>\n",
       "    </tr>\n",
       "  </thead>\n",
       "  <tbody>\n",
       "    <tr>\n",
       "      <th>0</th>\n",
       "      <td>100002</td>\n",
       "      <td>1</td>\n",
       "      <td>Cash loans</td>\n",
       "      <td>M</td>\n",
       "      <td>N</td>\n",
       "      <td>Y</td>\n",
       "      <td>0</td>\n",
       "      <td>202500.0</td>\n",
       "      <td>406597.5</td>\n",
       "      <td>24700.5</td>\n",
       "      <td>...</td>\n",
       "      <td>0</td>\n",
       "      <td>0</td>\n",
       "      <td>0</td>\n",
       "      <td>0</td>\n",
       "      <td>0.0</td>\n",
       "      <td>0.0</td>\n",
       "      <td>0.0</td>\n",
       "      <td>0.0</td>\n",
       "      <td>0.0</td>\n",
       "      <td>1.0</td>\n",
       "    </tr>\n",
       "    <tr>\n",
       "      <th>1</th>\n",
       "      <td>100003</td>\n",
       "      <td>0</td>\n",
       "      <td>Cash loans</td>\n",
       "      <td>F</td>\n",
       "      <td>N</td>\n",
       "      <td>N</td>\n",
       "      <td>0</td>\n",
       "      <td>270000.0</td>\n",
       "      <td>1293502.5</td>\n",
       "      <td>35698.5</td>\n",
       "      <td>...</td>\n",
       "      <td>0</td>\n",
       "      <td>0</td>\n",
       "      <td>0</td>\n",
       "      <td>0</td>\n",
       "      <td>0.0</td>\n",
       "      <td>0.0</td>\n",
       "      <td>0.0</td>\n",
       "      <td>0.0</td>\n",
       "      <td>0.0</td>\n",
       "      <td>0.0</td>\n",
       "    </tr>\n",
       "    <tr>\n",
       "      <th>2</th>\n",
       "      <td>100004</td>\n",
       "      <td>0</td>\n",
       "      <td>Revolving loans</td>\n",
       "      <td>M</td>\n",
       "      <td>Y</td>\n",
       "      <td>Y</td>\n",
       "      <td>0</td>\n",
       "      <td>67500.0</td>\n",
       "      <td>135000.0</td>\n",
       "      <td>6750.0</td>\n",
       "      <td>...</td>\n",
       "      <td>0</td>\n",
       "      <td>0</td>\n",
       "      <td>0</td>\n",
       "      <td>0</td>\n",
       "      <td>0.0</td>\n",
       "      <td>0.0</td>\n",
       "      <td>0.0</td>\n",
       "      <td>0.0</td>\n",
       "      <td>0.0</td>\n",
       "      <td>0.0</td>\n",
       "    </tr>\n",
       "  </tbody>\n",
       "</table>\n",
       "<p>3 rows × 122 columns</p>\n",
       "</div>"
      ],
      "text/plain": [
       "   SK_ID_CURR  TARGET NAME_CONTRACT_TYPE CODE_GENDER FLAG_OWN_CAR  \\\n",
       "0      100002       1         Cash loans           M            N   \n",
       "1      100003       0         Cash loans           F            N   \n",
       "2      100004       0    Revolving loans           M            Y   \n",
       "\n",
       "  FLAG_OWN_REALTY  CNT_CHILDREN  AMT_INCOME_TOTAL  AMT_CREDIT  AMT_ANNUITY  \\\n",
       "0               Y             0          202500.0    406597.5      24700.5   \n",
       "1               N             0          270000.0   1293502.5      35698.5   \n",
       "2               Y             0           67500.0    135000.0       6750.0   \n",
       "\n",
       "   ...  FLAG_DOCUMENT_18 FLAG_DOCUMENT_19 FLAG_DOCUMENT_20 FLAG_DOCUMENT_21  \\\n",
       "0  ...                 0                0                0                0   \n",
       "1  ...                 0                0                0                0   \n",
       "2  ...                 0                0                0                0   \n",
       "\n",
       "  AMT_REQ_CREDIT_BUREAU_HOUR AMT_REQ_CREDIT_BUREAU_DAY  \\\n",
       "0                        0.0                       0.0   \n",
       "1                        0.0                       0.0   \n",
       "2                        0.0                       0.0   \n",
       "\n",
       "   AMT_REQ_CREDIT_BUREAU_WEEK  AMT_REQ_CREDIT_BUREAU_MON  \\\n",
       "0                         0.0                        0.0   \n",
       "1                         0.0                        0.0   \n",
       "2                         0.0                        0.0   \n",
       "\n",
       "   AMT_REQ_CREDIT_BUREAU_QRT  AMT_REQ_CREDIT_BUREAU_YEAR  \n",
       "0                        0.0                         1.0  \n",
       "1                        0.0                         0.0  \n",
       "2                        0.0                         0.0  \n",
       "\n",
       "[3 rows x 122 columns]"
      ]
     },
     "execution_count": 3,
     "metadata": {},
     "output_type": "execute_result"
    }
   ],
   "source": [
    "df_train.head(3)"
   ]
  },
  {
   "cell_type": "code",
   "execution_count": 4,
   "metadata": {},
   "outputs": [
    {
     "name": "stdout",
     "output_type": "stream",
     "text": [
      "<class 'pandas.core.frame.DataFrame'>\n",
      "RangeIndex: 307511 entries, 0 to 307510\n",
      "Data columns (total 122 columns):\n",
      " #   Column                        Dtype  \n",
      "---  ------                        -----  \n",
      " 0   SK_ID_CURR                    int64  \n",
      " 1   TARGET                        int64  \n",
      " 2   NAME_CONTRACT_TYPE            object \n",
      " 3   CODE_GENDER                   object \n",
      " 4   FLAG_OWN_CAR                  object \n",
      " 5   FLAG_OWN_REALTY               object \n",
      " 6   CNT_CHILDREN                  int64  \n",
      " 7   AMT_INCOME_TOTAL              float64\n",
      " 8   AMT_CREDIT                    float64\n",
      " 9   AMT_ANNUITY                   float64\n",
      " 10  AMT_GOODS_PRICE               float64\n",
      " 11  NAME_TYPE_SUITE               object \n",
      " 12  NAME_INCOME_TYPE              object \n",
      " 13  NAME_EDUCATION_TYPE           object \n",
      " 14  NAME_FAMILY_STATUS            object \n",
      " 15  NAME_HOUSING_TYPE             object \n",
      " 16  REGION_POPULATION_RELATIVE    float64\n",
      " 17  DAYS_BIRTH                    int64  \n",
      " 18  DAYS_EMPLOYED                 int64  \n",
      " 19  DAYS_REGISTRATION             float64\n",
      " 20  DAYS_ID_PUBLISH               int64  \n",
      " 21  OWN_CAR_AGE                   float64\n",
      " 22  FLAG_MOBIL                    int64  \n",
      " 23  FLAG_EMP_PHONE                int64  \n",
      " 24  FLAG_WORK_PHONE               int64  \n",
      " 25  FLAG_CONT_MOBILE              int64  \n",
      " 26  FLAG_PHONE                    int64  \n",
      " 27  FLAG_EMAIL                    int64  \n",
      " 28  OCCUPATION_TYPE               object \n",
      " 29  CNT_FAM_MEMBERS               float64\n",
      " 30  REGION_RATING_CLIENT          int64  \n",
      " 31  REGION_RATING_CLIENT_W_CITY   int64  \n",
      " 32  WEEKDAY_APPR_PROCESS_START    object \n",
      " 33  HOUR_APPR_PROCESS_START       int64  \n",
      " 34  REG_REGION_NOT_LIVE_REGION    int64  \n",
      " 35  REG_REGION_NOT_WORK_REGION    int64  \n",
      " 36  LIVE_REGION_NOT_WORK_REGION   int64  \n",
      " 37  REG_CITY_NOT_LIVE_CITY        int64  \n",
      " 38  REG_CITY_NOT_WORK_CITY        int64  \n",
      " 39  LIVE_CITY_NOT_WORK_CITY       int64  \n",
      " 40  ORGANIZATION_TYPE             object \n",
      " 41  EXT_SOURCE_1                  float64\n",
      " 42  EXT_SOURCE_2                  float64\n",
      " 43  EXT_SOURCE_3                  float64\n",
      " 44  APARTMENTS_AVG                float64\n",
      " 45  BASEMENTAREA_AVG              float64\n",
      " 46  YEARS_BEGINEXPLUATATION_AVG   float64\n",
      " 47  YEARS_BUILD_AVG               float64\n",
      " 48  COMMONAREA_AVG                float64\n",
      " 49  ELEVATORS_AVG                 float64\n",
      " 50  ENTRANCES_AVG                 float64\n",
      " 51  FLOORSMAX_AVG                 float64\n",
      " 52  FLOORSMIN_AVG                 float64\n",
      " 53  LANDAREA_AVG                  float64\n",
      " 54  LIVINGAPARTMENTS_AVG          float64\n",
      " 55  LIVINGAREA_AVG                float64\n",
      " 56  NONLIVINGAPARTMENTS_AVG       float64\n",
      " 57  NONLIVINGAREA_AVG             float64\n",
      " 58  APARTMENTS_MODE               float64\n",
      " 59  BASEMENTAREA_MODE             float64\n",
      " 60  YEARS_BEGINEXPLUATATION_MODE  float64\n",
      " 61  YEARS_BUILD_MODE              float64\n",
      " 62  COMMONAREA_MODE               float64\n",
      " 63  ELEVATORS_MODE                float64\n",
      " 64  ENTRANCES_MODE                float64\n",
      " 65  FLOORSMAX_MODE                float64\n",
      " 66  FLOORSMIN_MODE                float64\n",
      " 67  LANDAREA_MODE                 float64\n",
      " 68  LIVINGAPARTMENTS_MODE         float64\n",
      " 69  LIVINGAREA_MODE               float64\n",
      " 70  NONLIVINGAPARTMENTS_MODE      float64\n",
      " 71  NONLIVINGAREA_MODE            float64\n",
      " 72  APARTMENTS_MEDI               float64\n",
      " 73  BASEMENTAREA_MEDI             float64\n",
      " 74  YEARS_BEGINEXPLUATATION_MEDI  float64\n",
      " 75  YEARS_BUILD_MEDI              float64\n",
      " 76  COMMONAREA_MEDI               float64\n",
      " 77  ELEVATORS_MEDI                float64\n",
      " 78  ENTRANCES_MEDI                float64\n",
      " 79  FLOORSMAX_MEDI                float64\n",
      " 80  FLOORSMIN_MEDI                float64\n",
      " 81  LANDAREA_MEDI                 float64\n",
      " 82  LIVINGAPARTMENTS_MEDI         float64\n",
      " 83  LIVINGAREA_MEDI               float64\n",
      " 84  NONLIVINGAPARTMENTS_MEDI      float64\n",
      " 85  NONLIVINGAREA_MEDI            float64\n",
      " 86  FONDKAPREMONT_MODE            object \n",
      " 87  HOUSETYPE_MODE                object \n",
      " 88  TOTALAREA_MODE                float64\n",
      " 89  WALLSMATERIAL_MODE            object \n",
      " 90  EMERGENCYSTATE_MODE           object \n",
      " 91  OBS_30_CNT_SOCIAL_CIRCLE      float64\n",
      " 92  DEF_30_CNT_SOCIAL_CIRCLE      float64\n",
      " 93  OBS_60_CNT_SOCIAL_CIRCLE      float64\n",
      " 94  DEF_60_CNT_SOCIAL_CIRCLE      float64\n",
      " 95  DAYS_LAST_PHONE_CHANGE        float64\n",
      " 96  FLAG_DOCUMENT_2               int64  \n",
      " 97  FLAG_DOCUMENT_3               int64  \n",
      " 98  FLAG_DOCUMENT_4               int64  \n",
      " 99  FLAG_DOCUMENT_5               int64  \n",
      " 100 FLAG_DOCUMENT_6               int64  \n",
      " 101 FLAG_DOCUMENT_7               int64  \n",
      " 102 FLAG_DOCUMENT_8               int64  \n",
      " 103 FLAG_DOCUMENT_9               int64  \n",
      " 104 FLAG_DOCUMENT_10              int64  \n",
      " 105 FLAG_DOCUMENT_11              int64  \n",
      " 106 FLAG_DOCUMENT_12              int64  \n",
      " 107 FLAG_DOCUMENT_13              int64  \n",
      " 108 FLAG_DOCUMENT_14              int64  \n",
      " 109 FLAG_DOCUMENT_15              int64  \n",
      " 110 FLAG_DOCUMENT_16              int64  \n",
      " 111 FLAG_DOCUMENT_17              int64  \n",
      " 112 FLAG_DOCUMENT_18              int64  \n",
      " 113 FLAG_DOCUMENT_19              int64  \n",
      " 114 FLAG_DOCUMENT_20              int64  \n",
      " 115 FLAG_DOCUMENT_21              int64  \n",
      " 116 AMT_REQ_CREDIT_BUREAU_HOUR    float64\n",
      " 117 AMT_REQ_CREDIT_BUREAU_DAY     float64\n",
      " 118 AMT_REQ_CREDIT_BUREAU_WEEK    float64\n",
      " 119 AMT_REQ_CREDIT_BUREAU_MON     float64\n",
      " 120 AMT_REQ_CREDIT_BUREAU_QRT     float64\n",
      " 121 AMT_REQ_CREDIT_BUREAU_YEAR    float64\n",
      "dtypes: float64(65), int64(41), object(16)\n",
      "memory usage: 286.2+ MB\n"
     ]
    }
   ],
   "source": [
    "df_train.info(verbose=True)"
   ]
  },
  {
   "cell_type": "code",
   "execution_count": 5,
   "metadata": {},
   "outputs": [
    {
     "data": {
      "text/html": [
       "<div>\n",
       "<style scoped>\n",
       "    .dataframe tbody tr th:only-of-type {\n",
       "        vertical-align: middle;\n",
       "    }\n",
       "\n",
       "    .dataframe tbody tr th {\n",
       "        vertical-align: top;\n",
       "    }\n",
       "\n",
       "    .dataframe thead th {\n",
       "        text-align: right;\n",
       "    }\n",
       "</style>\n",
       "<table border=\"1\" class=\"dataframe\">\n",
       "  <thead>\n",
       "    <tr style=\"text-align: right;\">\n",
       "      <th></th>\n",
       "      <th>SK_ID_CURR</th>\n",
       "      <th>NAME_CONTRACT_TYPE</th>\n",
       "      <th>CODE_GENDER</th>\n",
       "      <th>FLAG_OWN_CAR</th>\n",
       "      <th>FLAG_OWN_REALTY</th>\n",
       "      <th>CNT_CHILDREN</th>\n",
       "      <th>AMT_INCOME_TOTAL</th>\n",
       "      <th>AMT_CREDIT</th>\n",
       "      <th>AMT_ANNUITY</th>\n",
       "      <th>AMT_GOODS_PRICE</th>\n",
       "      <th>...</th>\n",
       "      <th>FLAG_DOCUMENT_18</th>\n",
       "      <th>FLAG_DOCUMENT_19</th>\n",
       "      <th>FLAG_DOCUMENT_20</th>\n",
       "      <th>FLAG_DOCUMENT_21</th>\n",
       "      <th>AMT_REQ_CREDIT_BUREAU_HOUR</th>\n",
       "      <th>AMT_REQ_CREDIT_BUREAU_DAY</th>\n",
       "      <th>AMT_REQ_CREDIT_BUREAU_WEEK</th>\n",
       "      <th>AMT_REQ_CREDIT_BUREAU_MON</th>\n",
       "      <th>AMT_REQ_CREDIT_BUREAU_QRT</th>\n",
       "      <th>AMT_REQ_CREDIT_BUREAU_YEAR</th>\n",
       "    </tr>\n",
       "  </thead>\n",
       "  <tbody>\n",
       "    <tr>\n",
       "      <th>0</th>\n",
       "      <td>100001</td>\n",
       "      <td>Cash loans</td>\n",
       "      <td>F</td>\n",
       "      <td>N</td>\n",
       "      <td>Y</td>\n",
       "      <td>0</td>\n",
       "      <td>135000.0</td>\n",
       "      <td>568800.0</td>\n",
       "      <td>20560.5</td>\n",
       "      <td>450000.0</td>\n",
       "      <td>...</td>\n",
       "      <td>0</td>\n",
       "      <td>0</td>\n",
       "      <td>0</td>\n",
       "      <td>0</td>\n",
       "      <td>0.0</td>\n",
       "      <td>0.0</td>\n",
       "      <td>0.0</td>\n",
       "      <td>0.0</td>\n",
       "      <td>0.0</td>\n",
       "      <td>0.0</td>\n",
       "    </tr>\n",
       "    <tr>\n",
       "      <th>1</th>\n",
       "      <td>100005</td>\n",
       "      <td>Cash loans</td>\n",
       "      <td>M</td>\n",
       "      <td>N</td>\n",
       "      <td>Y</td>\n",
       "      <td>0</td>\n",
       "      <td>99000.0</td>\n",
       "      <td>222768.0</td>\n",
       "      <td>17370.0</td>\n",
       "      <td>180000.0</td>\n",
       "      <td>...</td>\n",
       "      <td>0</td>\n",
       "      <td>0</td>\n",
       "      <td>0</td>\n",
       "      <td>0</td>\n",
       "      <td>0.0</td>\n",
       "      <td>0.0</td>\n",
       "      <td>0.0</td>\n",
       "      <td>0.0</td>\n",
       "      <td>0.0</td>\n",
       "      <td>3.0</td>\n",
       "    </tr>\n",
       "    <tr>\n",
       "      <th>2</th>\n",
       "      <td>100013</td>\n",
       "      <td>Cash loans</td>\n",
       "      <td>M</td>\n",
       "      <td>Y</td>\n",
       "      <td>Y</td>\n",
       "      <td>0</td>\n",
       "      <td>202500.0</td>\n",
       "      <td>663264.0</td>\n",
       "      <td>69777.0</td>\n",
       "      <td>630000.0</td>\n",
       "      <td>...</td>\n",
       "      <td>0</td>\n",
       "      <td>0</td>\n",
       "      <td>0</td>\n",
       "      <td>0</td>\n",
       "      <td>0.0</td>\n",
       "      <td>0.0</td>\n",
       "      <td>0.0</td>\n",
       "      <td>0.0</td>\n",
       "      <td>1.0</td>\n",
       "      <td>4.0</td>\n",
       "    </tr>\n",
       "  </tbody>\n",
       "</table>\n",
       "<p>3 rows × 121 columns</p>\n",
       "</div>"
      ],
      "text/plain": [
       "   SK_ID_CURR NAME_CONTRACT_TYPE CODE_GENDER FLAG_OWN_CAR FLAG_OWN_REALTY  \\\n",
       "0      100001         Cash loans           F            N               Y   \n",
       "1      100005         Cash loans           M            N               Y   \n",
       "2      100013         Cash loans           M            Y               Y   \n",
       "\n",
       "   CNT_CHILDREN  AMT_INCOME_TOTAL  AMT_CREDIT  AMT_ANNUITY  AMT_GOODS_PRICE  \\\n",
       "0             0          135000.0    568800.0      20560.5         450000.0   \n",
       "1             0           99000.0    222768.0      17370.0         180000.0   \n",
       "2             0          202500.0    663264.0      69777.0         630000.0   \n",
       "\n",
       "   ... FLAG_DOCUMENT_18 FLAG_DOCUMENT_19 FLAG_DOCUMENT_20 FLAG_DOCUMENT_21  \\\n",
       "0  ...                0                0                0                0   \n",
       "1  ...                0                0                0                0   \n",
       "2  ...                0                0                0                0   \n",
       "\n",
       "  AMT_REQ_CREDIT_BUREAU_HOUR  AMT_REQ_CREDIT_BUREAU_DAY  \\\n",
       "0                        0.0                        0.0   \n",
       "1                        0.0                        0.0   \n",
       "2                        0.0                        0.0   \n",
       "\n",
       "   AMT_REQ_CREDIT_BUREAU_WEEK  AMT_REQ_CREDIT_BUREAU_MON  \\\n",
       "0                         0.0                        0.0   \n",
       "1                         0.0                        0.0   \n",
       "2                         0.0                        0.0   \n",
       "\n",
       "   AMT_REQ_CREDIT_BUREAU_QRT  AMT_REQ_CREDIT_BUREAU_YEAR  \n",
       "0                        0.0                         0.0  \n",
       "1                        0.0                         3.0  \n",
       "2                        1.0                         4.0  \n",
       "\n",
       "[3 rows x 121 columns]"
      ]
     },
     "execution_count": 5,
     "metadata": {},
     "output_type": "execute_result"
    }
   ],
   "source": [
    "df_test.head(3)"
   ]
  },
  {
   "cell_type": "markdown",
   "metadata": {},
   "source": [
    "### Вивчення структури даних"
   ]
  },
  {
   "cell_type": "code",
   "execution_count": 6,
   "metadata": {},
   "outputs": [
    {
     "name": "stdout",
     "output_type": "stream",
     "text": [
      "<class 'pandas.core.frame.DataFrame'>\n",
      "RangeIndex: 48744 entries, 0 to 48743\n",
      "Data columns (total 121 columns):\n",
      " #   Column                        Dtype  \n",
      "---  ------                        -----  \n",
      " 0   SK_ID_CURR                    int64  \n",
      " 1   NAME_CONTRACT_TYPE            object \n",
      " 2   CODE_GENDER                   object \n",
      " 3   FLAG_OWN_CAR                  object \n",
      " 4   FLAG_OWN_REALTY               object \n",
      " 5   CNT_CHILDREN                  int64  \n",
      " 6   AMT_INCOME_TOTAL              float64\n",
      " 7   AMT_CREDIT                    float64\n",
      " 8   AMT_ANNUITY                   float64\n",
      " 9   AMT_GOODS_PRICE               float64\n",
      " 10  NAME_TYPE_SUITE               object \n",
      " 11  NAME_INCOME_TYPE              object \n",
      " 12  NAME_EDUCATION_TYPE           object \n",
      " 13  NAME_FAMILY_STATUS            object \n",
      " 14  NAME_HOUSING_TYPE             object \n",
      " 15  REGION_POPULATION_RELATIVE    float64\n",
      " 16  DAYS_BIRTH                    int64  \n",
      " 17  DAYS_EMPLOYED                 int64  \n",
      " 18  DAYS_REGISTRATION             float64\n",
      " 19  DAYS_ID_PUBLISH               int64  \n",
      " 20  OWN_CAR_AGE                   float64\n",
      " 21  FLAG_MOBIL                    int64  \n",
      " 22  FLAG_EMP_PHONE                int64  \n",
      " 23  FLAG_WORK_PHONE               int64  \n",
      " 24  FLAG_CONT_MOBILE              int64  \n",
      " 25  FLAG_PHONE                    int64  \n",
      " 26  FLAG_EMAIL                    int64  \n",
      " 27  OCCUPATION_TYPE               object \n",
      " 28  CNT_FAM_MEMBERS               float64\n",
      " 29  REGION_RATING_CLIENT          int64  \n",
      " 30  REGION_RATING_CLIENT_W_CITY   int64  \n",
      " 31  WEEKDAY_APPR_PROCESS_START    object \n",
      " 32  HOUR_APPR_PROCESS_START       int64  \n",
      " 33  REG_REGION_NOT_LIVE_REGION    int64  \n",
      " 34  REG_REGION_NOT_WORK_REGION    int64  \n",
      " 35  LIVE_REGION_NOT_WORK_REGION   int64  \n",
      " 36  REG_CITY_NOT_LIVE_CITY        int64  \n",
      " 37  REG_CITY_NOT_WORK_CITY        int64  \n",
      " 38  LIVE_CITY_NOT_WORK_CITY       int64  \n",
      " 39  ORGANIZATION_TYPE             object \n",
      " 40  EXT_SOURCE_1                  float64\n",
      " 41  EXT_SOURCE_2                  float64\n",
      " 42  EXT_SOURCE_3                  float64\n",
      " 43  APARTMENTS_AVG                float64\n",
      " 44  BASEMENTAREA_AVG              float64\n",
      " 45  YEARS_BEGINEXPLUATATION_AVG   float64\n",
      " 46  YEARS_BUILD_AVG               float64\n",
      " 47  COMMONAREA_AVG                float64\n",
      " 48  ELEVATORS_AVG                 float64\n",
      " 49  ENTRANCES_AVG                 float64\n",
      " 50  FLOORSMAX_AVG                 float64\n",
      " 51  FLOORSMIN_AVG                 float64\n",
      " 52  LANDAREA_AVG                  float64\n",
      " 53  LIVINGAPARTMENTS_AVG          float64\n",
      " 54  LIVINGAREA_AVG                float64\n",
      " 55  NONLIVINGAPARTMENTS_AVG       float64\n",
      " 56  NONLIVINGAREA_AVG             float64\n",
      " 57  APARTMENTS_MODE               float64\n",
      " 58  BASEMENTAREA_MODE             float64\n",
      " 59  YEARS_BEGINEXPLUATATION_MODE  float64\n",
      " 60  YEARS_BUILD_MODE              float64\n",
      " 61  COMMONAREA_MODE               float64\n",
      " 62  ELEVATORS_MODE                float64\n",
      " 63  ENTRANCES_MODE                float64\n",
      " 64  FLOORSMAX_MODE                float64\n",
      " 65  FLOORSMIN_MODE                float64\n",
      " 66  LANDAREA_MODE                 float64\n",
      " 67  LIVINGAPARTMENTS_MODE         float64\n",
      " 68  LIVINGAREA_MODE               float64\n",
      " 69  NONLIVINGAPARTMENTS_MODE      float64\n",
      " 70  NONLIVINGAREA_MODE            float64\n",
      " 71  APARTMENTS_MEDI               float64\n",
      " 72  BASEMENTAREA_MEDI             float64\n",
      " 73  YEARS_BEGINEXPLUATATION_MEDI  float64\n",
      " 74  YEARS_BUILD_MEDI              float64\n",
      " 75  COMMONAREA_MEDI               float64\n",
      " 76  ELEVATORS_MEDI                float64\n",
      " 77  ENTRANCES_MEDI                float64\n",
      " 78  FLOORSMAX_MEDI                float64\n",
      " 79  FLOORSMIN_MEDI                float64\n",
      " 80  LANDAREA_MEDI                 float64\n",
      " 81  LIVINGAPARTMENTS_MEDI         float64\n",
      " 82  LIVINGAREA_MEDI               float64\n",
      " 83  NONLIVINGAPARTMENTS_MEDI      float64\n",
      " 84  NONLIVINGAREA_MEDI            float64\n",
      " 85  FONDKAPREMONT_MODE            object \n",
      " 86  HOUSETYPE_MODE                object \n",
      " 87  TOTALAREA_MODE                float64\n",
      " 88  WALLSMATERIAL_MODE            object \n",
      " 89  EMERGENCYSTATE_MODE           object \n",
      " 90  OBS_30_CNT_SOCIAL_CIRCLE      float64\n",
      " 91  DEF_30_CNT_SOCIAL_CIRCLE      float64\n",
      " 92  OBS_60_CNT_SOCIAL_CIRCLE      float64\n",
      " 93  DEF_60_CNT_SOCIAL_CIRCLE      float64\n",
      " 94  DAYS_LAST_PHONE_CHANGE        float64\n",
      " 95  FLAG_DOCUMENT_2               int64  \n",
      " 96  FLAG_DOCUMENT_3               int64  \n",
      " 97  FLAG_DOCUMENT_4               int64  \n",
      " 98  FLAG_DOCUMENT_5               int64  \n",
      " 99  FLAG_DOCUMENT_6               int64  \n",
      " 100 FLAG_DOCUMENT_7               int64  \n",
      " 101 FLAG_DOCUMENT_8               int64  \n",
      " 102 FLAG_DOCUMENT_9               int64  \n",
      " 103 FLAG_DOCUMENT_10              int64  \n",
      " 104 FLAG_DOCUMENT_11              int64  \n",
      " 105 FLAG_DOCUMENT_12              int64  \n",
      " 106 FLAG_DOCUMENT_13              int64  \n",
      " 107 FLAG_DOCUMENT_14              int64  \n",
      " 108 FLAG_DOCUMENT_15              int64  \n",
      " 109 FLAG_DOCUMENT_16              int64  \n",
      " 110 FLAG_DOCUMENT_17              int64  \n",
      " 111 FLAG_DOCUMENT_18              int64  \n",
      " 112 FLAG_DOCUMENT_19              int64  \n",
      " 113 FLAG_DOCUMENT_20              int64  \n",
      " 114 FLAG_DOCUMENT_21              int64  \n",
      " 115 AMT_REQ_CREDIT_BUREAU_HOUR    float64\n",
      " 116 AMT_REQ_CREDIT_BUREAU_DAY     float64\n",
      " 117 AMT_REQ_CREDIT_BUREAU_WEEK    float64\n",
      " 118 AMT_REQ_CREDIT_BUREAU_MON     float64\n",
      " 119 AMT_REQ_CREDIT_BUREAU_QRT     float64\n",
      " 120 AMT_REQ_CREDIT_BUREAU_YEAR    float64\n",
      "dtypes: float64(65), int64(40), object(16)\n",
      "memory usage: 45.0+ MB\n"
     ]
    }
   ],
   "source": [
    "df_test.info(verbose=True)"
   ]
  },
  {
   "cell_type": "markdown",
   "metadata": {},
   "source": [
    "Пошук відмінностей в стовпчиках"
   ]
  },
  {
   "cell_type": "code",
   "execution_count": 7,
   "metadata": {},
   "outputs": [
    {
     "data": {
      "text/plain": [
       "['TARGET']"
      ]
     },
     "execution_count": 7,
     "metadata": {},
     "output_type": "execute_result"
    }
   ],
   "source": [
    "dif = [item for item in df_train.columns if item not in df_test.columns]\n",
    "dif"
   ]
  },
  {
   "cell_type": "markdown",
   "metadata": {},
   "source": [
    "Пошук дублікатов"
   ]
  },
  {
   "cell_type": "code",
   "execution_count": 8,
   "metadata": {},
   "outputs": [
    {
     "name": "stdout",
     "output_type": "stream",
     "text": [
      "No duplicates\n"
     ]
    }
   ],
   "source": [
    "print('No duplicates' if not any(df_train.duplicated()) else 'Duplicates are found') # наличие идентичных строк"
   ]
  },
  {
   "cell_type": "markdown",
   "metadata": {},
   "source": [
    "Пошук стовпчиків з обмеженою кількістю різних значень"
   ]
  },
  {
   "cell_type": "code",
   "execution_count": 9,
   "metadata": {},
   "outputs": [
    {
     "name": "stdout",
     "output_type": "stream",
     "text": [
      "NAME_CONTRACT_TYPE ( object ) ['Cash loans', 'Revolving loans']\n",
      "CODE_GENDER ( object ) ['M', 'F', 'XNA']\n",
      "FLAG_OWN_CAR ( object ) ['N', 'Y']\n",
      "FLAG_OWN_REALTY ( object ) ['Y', 'N']\n",
      "NAME_TYPE_SUITE ( object ) ['Unaccompanied', 'Family', 'Spouse, partner', 'Children', 'Other_A', nan, 'Other_B', 'Group of people']\n",
      "NAME_INCOME_TYPE ( object ) ['Working', 'State servant', 'Commercial associate', 'Pensioner', 'Unemployed', 'Student', 'Businessman', 'Maternity leave']\n",
      "NAME_EDUCATION_TYPE ( object ) ['Secondary / secondary special', 'Higher education', 'Incomplete higher', 'Lower secondary', 'Academic degree']\n",
      "NAME_FAMILY_STATUS ( object ) ['Single / not married', 'Married', 'Civil marriage', 'Widow', 'Separated', 'Unknown']\n",
      "NAME_HOUSING_TYPE ( object ) ['House / apartment', 'Rented apartment', 'With parents', 'Municipal apartment', 'Office apartment', 'Co-op apartment']\n",
      "WEEKDAY_APPR_PROCESS_START ( object ) ['WEDNESDAY', 'MONDAY', 'THURSDAY', 'SUNDAY', 'SATURDAY', 'FRIDAY', 'TUESDAY']\n",
      "FONDKAPREMONT_MODE ( object ) ['reg oper account', nan, 'org spec account', 'reg oper spec account', 'not specified']\n",
      "HOUSETYPE_MODE ( object ) ['block of flats', nan, 'terraced house', 'specific housing']\n",
      "WALLSMATERIAL_MODE ( object ) ['Stone, brick', 'Block', nan, 'Panel', 'Mixed', 'Wooden', 'Others', 'Monolithic']\n",
      "EMERGENCYSTATE_MODE ( object ) ['No', nan, 'Yes']\n"
     ]
    }
   ],
   "source": [
    "# колонки с лимитированным количеством различных значений (<10)\n",
    "cat_dict = {item: df_train[item].unique() for item in df_train if (df_train[item].nunique() < 10) & (df_train[item].dtype == 'object')}\n",
    "for key in cat_dict.keys():\n",
    "    print(key, '(', str(df_train[key].dtype).strip(), ')', list(cat_dict[key]))"
   ]
  },
  {
   "cell_type": "code",
   "execution_count": 10,
   "metadata": {},
   "outputs": [
    {
     "data": {
      "image/png": "[encoded data removed]",
      "text/plain": [
       "<Figure size 1296x360 with 2 Axes>"
      ]
     },
     "metadata": {
      "needs_background": "light"
     },
     "output_type": "display_data"
    }
   ],
   "source": [
    "# гістограма кількості унікальних значень в колонках\n",
    "fig, ax = plt.subplots(1, 2, sharey=True, figsize=(18, 5))\n",
    "nunique = pd.Series([df_train[col].nunique() for col in df_train.columns])\n",
    "nunique_low = nunique.loc[nunique < 120]\n",
    "nunique.plot.hist(ax = ax[0])\n",
    "nunique_low.plot.hist(ax = ax[1])\n",
    "ax[0].set_xlabel('Кількість унікальних значень')\n",
    "ax[1].set_xlabel('Кількість унікальних значень')\n",
    "ax[0].set_ylabel('Кількість факторів\\n з відповідною кількістю значень')\n",
    "plt.suptitle('Кількість унікальних значень')\n",
    "plt.show()"
   ]
  },
  {
   "cell_type": "code",
   "execution_count": 11,
   "metadata": {},
   "outputs": [],
   "source": [
    "len(nunique.loc[nunique > 10000])\n",
    "x = np.linspace(0, 300000, 300000)\n",
    "y = np.vectorize(lambda x: len(nunique.loc[nunique > x]))"
   ]
  },
  {
   "cell_type": "code",
   "execution_count": 12,
   "metadata": {},
   "outputs": [
    {
     "data": {
      "image/png": "[encoded data removed]",
      "text/plain": [
       "<Figure size 864x360 with 2 Axes>"
      ]
     },
     "metadata": {
      "needs_background": "light"
     },
     "output_type": "display_data"
    }
   ],
   "source": [
    "# графік кількості колонок з відповідною кількістю унікальних значень\n",
    "fig, ax = plt.subplots(1, 2, figsize=(12, 5))\n",
    "ax[0].plot(x, y(x))\n",
    "ax[1].plot(x[:20000], y(x)[:20000])\n",
    "plt.suptitle('Кількість унікальних значень')\n",
    "plt.show()"
   ]
  },
  {
   "cell_type": "code",
   "execution_count": 13,
   "metadata": {},
   "outputs": [],
   "source": [
    "for col in df_train.columns:\n",
    "    if df_train[col].nunique() < 11:\n",
    "        df_train[col] = df_train[col].astype('category')"
   ]
  },
  {
   "cell_type": "code",
   "execution_count": 14,
   "metadata": {},
   "outputs": [
    {
     "data": {
      "text/plain": [
       "['OCCUPATION_TYPE', 'ORGANIZATION_TYPE']"
      ]
     },
     "execution_count": 14,
     "metadata": {},
     "output_type": "execute_result"
    }
   ],
   "source": [
    "# наименование колонок с dtype object, для преобразования типов\n",
    "still_obj = [item for item in df_train if df_train[item].dtype == 'object']\n",
    "still_obj"
   ]
  },
  {
   "cell_type": "code",
   "execution_count": 15,
   "metadata": {},
   "outputs": [
    {
     "data": {
      "text/plain": [
       "array(['Laborers', 'Core staff', 'Accountants', 'Managers', nan,\n",
       "       'Drivers', 'Sales staff', 'Cleaning staff', 'Cooking staff',\n",
       "       'Private service staff', 'Medicine staff', 'Security staff',\n",
       "       'High skill tech staff', 'Waiters/barmen staff',\n",
       "       'Low-skill Laborers', 'Realty agents', 'Secretaries', 'IT staff',\n",
       "       'HR staff'], dtype=object)"
      ]
     },
     "execution_count": 15,
     "metadata": {},
     "output_type": "execute_result"
    }
   ],
   "source": [
    "df_train['OCCUPATION_TYPE'].unique()"
   ]
  },
  {
   "cell_type": "code",
   "execution_count": 16,
   "metadata": {},
   "outputs": [
    {
     "data": {
      "text/plain": [
       "array(['Business Entity Type 3', 'School', 'Government', 'Religion',\n",
       "       'Other', 'XNA', 'Electricity', 'Medicine',\n",
       "       'Business Entity Type 2', 'Self-employed', 'Transport: type 2',\n",
       "       'Construction', 'Housing', 'Kindergarten', 'Trade: type 7',\n",
       "       'Industry: type 11', 'Military', 'Services', 'Security Ministries',\n",
       "       'Transport: type 4', 'Industry: type 1', 'Emergency', 'Security',\n",
       "       'Trade: type 2', 'University', 'Transport: type 3', 'Police',\n",
       "       'Business Entity Type 1', 'Postal', 'Industry: type 4',\n",
       "       'Agriculture', 'Restaurant', 'Culture', 'Hotel',\n",
       "       'Industry: type 7', 'Trade: type 3', 'Industry: type 3', 'Bank',\n",
       "       'Industry: type 9', 'Insurance', 'Trade: type 6',\n",
       "       'Industry: type 2', 'Transport: type 1', 'Industry: type 12',\n",
       "       'Mobile', 'Trade: type 1', 'Industry: type 5', 'Industry: type 10',\n",
       "       'Legal Services', 'Advertising', 'Trade: type 5', 'Cleaning',\n",
       "       'Industry: type 13', 'Trade: type 4', 'Telecom',\n",
       "       'Industry: type 8', 'Realtor', 'Industry: type 6'], dtype=object)"
      ]
     },
     "execution_count": 16,
     "metadata": {},
     "output_type": "execute_result"
    }
   ],
   "source": [
    "df_train['ORGANIZATION_TYPE'].unique()"
   ]
  },
  {
   "cell_type": "code",
   "execution_count": 17,
   "metadata": {},
   "outputs": [],
   "source": [
    "for col in still_obj:\n",
    "    df_train[col] = df_train[col].astype('category')"
   ]
  },
  {
   "cell_type": "code",
   "execution_count": 18,
   "metadata": {},
   "outputs": [
    {
     "data": {
      "text/plain": [
       "['SK_ID_CURR',\n",
       " 'CNT_CHILDREN',\n",
       " 'DAYS_BIRTH',\n",
       " 'DAYS_EMPLOYED',\n",
       " 'DAYS_ID_PUBLISH',\n",
       " 'HOUR_APPR_PROCESS_START']"
      ]
     },
     "execution_count": 18,
     "metadata": {},
     "output_type": "execute_result"
    }
   ],
   "source": [
    "[item for item in df_train if df_train[item].dtype == 'int64']"
   ]
  },
  {
   "cell_type": "code",
   "execution_count": 19,
   "metadata": {},
   "outputs": [],
   "source": [
    "df_train.drop(columns=['SK_ID_CURR'], inplace=True)"
   ]
  },
  {
   "cell_type": "code",
   "execution_count": 20,
   "metadata": {},
   "outputs": [
    {
     "data": {
      "text/plain": [
       "['AMT_INCOME_TOTAL',\n",
       " 'AMT_CREDIT',\n",
       " 'AMT_ANNUITY',\n",
       " 'AMT_GOODS_PRICE',\n",
       " 'REGION_POPULATION_RELATIVE',\n",
       " 'DAYS_REGISTRATION',\n",
       " 'OWN_CAR_AGE',\n",
       " 'CNT_FAM_MEMBERS',\n",
       " 'EXT_SOURCE_1',\n",
       " 'EXT_SOURCE_2',\n",
       " 'EXT_SOURCE_3',\n",
       " 'APARTMENTS_AVG',\n",
       " 'BASEMENTAREA_AVG',\n",
       " 'YEARS_BEGINEXPLUATATION_AVG',\n",
       " 'YEARS_BUILD_AVG',\n",
       " 'COMMONAREA_AVG',\n",
       " 'ELEVATORS_AVG',\n",
       " 'ENTRANCES_AVG',\n",
       " 'FLOORSMAX_AVG',\n",
       " 'FLOORSMIN_AVG',\n",
       " 'LANDAREA_AVG',\n",
       " 'LIVINGAPARTMENTS_AVG',\n",
       " 'LIVINGAREA_AVG',\n",
       " 'NONLIVINGAPARTMENTS_AVG',\n",
       " 'NONLIVINGAREA_AVG',\n",
       " 'APARTMENTS_MODE',\n",
       " 'BASEMENTAREA_MODE',\n",
       " 'YEARS_BEGINEXPLUATATION_MODE',\n",
       " 'YEARS_BUILD_MODE',\n",
       " 'COMMONAREA_MODE',\n",
       " 'ELEVATORS_MODE',\n",
       " 'ENTRANCES_MODE',\n",
       " 'FLOORSMAX_MODE',\n",
       " 'FLOORSMIN_MODE',\n",
       " 'LANDAREA_MODE',\n",
       " 'LIVINGAPARTMENTS_MODE',\n",
       " 'LIVINGAREA_MODE',\n",
       " 'NONLIVINGAPARTMENTS_MODE',\n",
       " 'NONLIVINGAREA_MODE',\n",
       " 'APARTMENTS_MEDI',\n",
       " 'BASEMENTAREA_MEDI',\n",
       " 'YEARS_BEGINEXPLUATATION_MEDI',\n",
       " 'YEARS_BUILD_MEDI',\n",
       " 'COMMONAREA_MEDI',\n",
       " 'ELEVATORS_MEDI',\n",
       " 'ENTRANCES_MEDI',\n",
       " 'FLOORSMAX_MEDI',\n",
       " 'FLOORSMIN_MEDI',\n",
       " 'LANDAREA_MEDI',\n",
       " 'LIVINGAPARTMENTS_MEDI',\n",
       " 'LIVINGAREA_MEDI',\n",
       " 'NONLIVINGAPARTMENTS_MEDI',\n",
       " 'NONLIVINGAREA_MEDI',\n",
       " 'TOTALAREA_MODE',\n",
       " 'OBS_30_CNT_SOCIAL_CIRCLE',\n",
       " 'OBS_60_CNT_SOCIAL_CIRCLE',\n",
       " 'DAYS_LAST_PHONE_CHANGE',\n",
       " 'AMT_REQ_CREDIT_BUREAU_MON',\n",
       " 'AMT_REQ_CREDIT_BUREAU_QRT',\n",
       " 'AMT_REQ_CREDIT_BUREAU_YEAR']"
      ]
     },
     "execution_count": 20,
     "metadata": {},
     "output_type": "execute_result"
    }
   ],
   "source": [
    "[item for item in df_train if df_train[item].dtype == 'float64']"
   ]
  },
  {
   "cell_type": "code",
   "execution_count": 21,
   "metadata": {},
   "outputs": [
    {
     "name": "stdout",
     "output_type": "stream",
     "text": [
      "<class 'pandas.core.frame.DataFrame'>\n",
      "RangeIndex: 307511 entries, 0 to 307510\n",
      "Columns: 121 entries, TARGET to AMT_REQ_CREDIT_BUREAU_YEAR\n",
      "dtypes: category(56), float64(60), int64(5)\n",
      "memory usage: 168.9 MB\n"
     ]
    }
   ],
   "source": [
    "df_train.info(verbose=False)"
   ]
  },
  {
   "cell_type": "markdown",
   "metadata": {},
   "source": [
    "### Робота з NaN"
   ]
  },
  {
   "cell_type": "code",
   "execution_count": 22,
   "metadata": {},
   "outputs": [
    {
     "name": "stdout",
     "output_type": "stream",
     "text": [
      "Загальна кількість значень: 307511\n"
     ]
    }
   ],
   "source": [
    "print('Загальна кількість значень: {}'.format(len(df_train)))"
   ]
  },
  {
   "cell_type": "code",
   "execution_count": 23,
   "metadata": {},
   "outputs": [],
   "source": [
    "cleaned_data = df_train.copy()\n",
    "cleaned_data['EXT_SOURCE_1'].fillna(0, inplace=True)"
   ]
  },
  {
   "cell_type": "code",
   "execution_count": 24,
   "metadata": {},
   "outputs": [
    {
     "data": {
      "text/plain": [
       "DAYS_LAST_PHONE_CHANGE           1\n",
       "CNT_FAM_MEMBERS                  2\n",
       "AMT_ANNUITY                     12\n",
       "AMT_GOODS_PRICE                278\n",
       "EXT_SOURCE_2                   660\n",
       "                             ...  \n",
       "NONLIVINGAPARTMENTS_MODE    213514\n",
       "NONLIVINGAPARTMENTS_AVG     213514\n",
       "COMMONAREA_MODE             214865\n",
       "COMMONAREA_AVG              214865\n",
       "COMMONAREA_MEDI             214865\n",
       "Length: 66, dtype: int64"
      ]
     },
     "execution_count": 24,
     "metadata": {},
     "output_type": "execute_result"
    }
   ],
   "source": [
    "# кількість NaN за кожним признаком\n",
    "missing = cleaned_data.isna().sum().loc[cleaned_data.isna().sum() > 0].sort_values(ascending=True)\n",
    "missing"
   ]
  },
  {
   "cell_type": "code",
   "execution_count": 25,
   "metadata": {},
   "outputs": [
    {
     "data": {
      "image/png": "[encoded data removed]",
      "text/plain": [
       "<Figure size 432x288 with 1 Axes>"
      ]
     },
     "metadata": {
      "needs_background": "light"
     },
     "output_type": "display_data"
    }
   ],
   "source": [
    "# розподіл кількості NaN\n",
    "fig, ax = plt.subplots()\n",
    "missing.plot.hist(ax = ax)\n",
    "ax.set_title('Розподіл кількості NaN')\n",
    "ax.set_ylabel('Частота')\n",
    "plt.show()"
   ]
  },
  {
   "cell_type": "markdown",
   "metadata": {},
   "source": [
    "<b>Стратегія роботи з NaN</b>  \n",
    "<li>Видалення факторів з кількістю NaN більше 40% від загальної кількості значень.</li>\n",
    "<li>Видалення рідків, яки містять NaN в кількості менше, ніж 0.1% від розміру датасету.</li>\n",
    "<li>Заміняємо NaN на найбільш часте або нульове значення там, де це підходить за смислом.</li>\n",
    "<li>Використовуємо Imputers для решти факторів.</li>"
   ]
  },
  {
   "cell_type": "code",
   "execution_count": 26,
   "metadata": {},
   "outputs": [
    {
     "data": {
      "text/plain": [
       "DAYS_LAST_PHONE_CHANGE            1\n",
       "CNT_FAM_MEMBERS                   2\n",
       "AMT_ANNUITY                      12\n",
       "AMT_GOODS_PRICE                 278\n",
       "EXT_SOURCE_2                    660\n",
       "DEF_60_CNT_SOCIAL_CIRCLE       1021\n",
       "OBS_60_CNT_SOCIAL_CIRCLE       1021\n",
       "DEF_30_CNT_SOCIAL_CIRCLE       1021\n",
       "OBS_30_CNT_SOCIAL_CIRCLE       1021\n",
       "NAME_TYPE_SUITE                1292\n",
       "AMT_REQ_CREDIT_BUREAU_QRT     41519\n",
       "AMT_REQ_CREDIT_BUREAU_HOUR    41519\n",
       "AMT_REQ_CREDIT_BUREAU_DAY     41519\n",
       "AMT_REQ_CREDIT_BUREAU_WEEK    41519\n",
       "AMT_REQ_CREDIT_BUREAU_MON     41519\n",
       "AMT_REQ_CREDIT_BUREAU_YEAR    41519\n",
       "EXT_SOURCE_3                  60965\n",
       "OCCUPATION_TYPE               96391\n",
       "dtype: int64"
      ]
     },
     "execution_count": 26,
     "metadata": {},
     "output_type": "execute_result"
    }
   ],
   "source": [
    "to_delete = missing.loc[missing > len(df_train) * 0.4]\n",
    "cleaned_data = cleaned_data[[item for item in cleaned_data.columns if item not in list(to_delete.index)]]\n",
    "cleaned_data.isna().sum().loc[cleaned_data.isna().sum() > 0].sort_values(ascending=True)"
   ]
  },
  {
   "cell_type": "code",
   "execution_count": 27,
   "metadata": {},
   "outputs": [],
   "source": [
    "del_index = cleaned_data.loc[cleaned_data['DAYS_LAST_PHONE_CHANGE'].isna() | cleaned_data['CNT_FAM_MEMBERS'].isna() |\n",
    "                             cleaned_data['AMT_ANNUITY'].isna() | cleaned_data['AMT_GOODS_PRICE'].isna() |\n",
    "                             cleaned_data['EXT_SOURCE_2'].isna() | cleaned_data['DEF_60_CNT_SOCIAL_CIRCLE'].isna() |\n",
    "                             cleaned_data['OBS_60_CNT_SOCIAL_CIRCLE'].isna() | cleaned_data['DEF_30_CNT_SOCIAL_CIRCLE'].isna() |\n",
    "                             cleaned_data['OBS_30_CNT_SOCIAL_CIRCLE'].isna() | cleaned_data['NAME_TYPE_SUITE'].isna()].index\n",
    "cleaned_data['mask'] = False\n",
    "cleaned_data.loc[list(del_index), 'mask'] = True\n",
    "cleaned_data = cleaned_data.loc[cleaned_data['mask'] == False].copy()\n",
    "cleaned_data.drop(columns=['mask'], inplace=True)"
   ]
  },
  {
   "cell_type": "code",
   "execution_count": 28,
   "metadata": {},
   "outputs": [
    {
     "data": {
      "text/plain": [
       "AMT_REQ_CREDIT_BUREAU_HOUR    41108\n",
       "AMT_REQ_CREDIT_BUREAU_DAY     41108\n",
       "AMT_REQ_CREDIT_BUREAU_WEEK    41108\n",
       "AMT_REQ_CREDIT_BUREAU_MON     41108\n",
       "AMT_REQ_CREDIT_BUREAU_QRT     41108\n",
       "AMT_REQ_CREDIT_BUREAU_YEAR    41108\n",
       "EXT_SOURCE_3                  60251\n",
       "OCCUPATION_TYPE               95435\n",
       "dtype: int64"
      ]
     },
     "execution_count": 28,
     "metadata": {},
     "output_type": "execute_result"
    }
   ],
   "source": [
    "cleaned_data.isna().sum().loc[cleaned_data.isna().sum() > 0].sort_values(ascending=True)"
   ]
  },
  {
   "cell_type": "code",
   "execution_count": 29,
   "metadata": {},
   "outputs": [],
   "source": [
    "def fillna_try(data):\n",
    "    try:\n",
    "        data.fillna(0.0, inplace=True)\n",
    "    except:\n",
    "        pass\n",
    "    try:\n",
    "        data.fillna(0, inplace=True)\n",
    "    except:\n",
    "        pass\n",
    "    return data\n",
    "\n",
    "for col in ['AMT_REQ_CREDIT_BUREAU_HOUR', 'AMT_REQ_CREDIT_BUREAU_DAY', 'AMT_REQ_CREDIT_BUREAU_WEEK', \n",
    "           'AMT_REQ_CREDIT_BUREAU_MON', 'AMT_REQ_CREDIT_BUREAU_QRT', 'AMT_REQ_CREDIT_BUREAU_YEAR']:\n",
    "    cleaned_data[col] = fillna_try(cleaned_data[col])"
   ]
  },
  {
   "cell_type": "code",
   "execution_count": 30,
   "metadata": {},
   "outputs": [
    {
     "data": {
      "text/plain": [
       "EXT_SOURCE_3       60251\n",
       "OCCUPATION_TYPE    95435\n",
       "dtype: int64"
      ]
     },
     "execution_count": 30,
     "metadata": {},
     "output_type": "execute_result"
    }
   ],
   "source": [
    "cleaned_data.isna().sum().loc[cleaned_data.isna().sum() > 0].sort_values(ascending=True)"
   ]
  },
  {
   "cell_type": "code",
   "execution_count": 31,
   "metadata": {},
   "outputs": [],
   "source": [
    "ext_features = ['EXT_SOURCE_1', 'EXT_SOURCE_2', 'EXT_SOURCE_3']\n",
    "iterative_data = cleaned_data[ext_features]\n",
    "imp_mice = IterativeImputer(random_state=0)\n",
    "imp_mice.fit(iterative_data)\n",
    "X = imp_mice.transform(iterative_data)\n",
    "cleaned_data['EXT_SOURCE_3'] = X[:,2]"
   ]
  },
  {
   "cell_type": "code",
   "execution_count": 32,
   "metadata": {},
   "outputs": [
    {
     "data": {
      "text/plain": [
       "OCCUPATION_TYPE    95435\n",
       "dtype: int64"
      ]
     },
     "execution_count": 32,
     "metadata": {},
     "output_type": "execute_result"
    }
   ],
   "source": [
    "cleaned_data.isna().sum().loc[cleaned_data.isna().sum() > 0].sort_values(ascending=True)"
   ]
  },
  {
   "cell_type": "code",
   "execution_count": 33,
   "metadata": {},
   "outputs": [],
   "source": [
    "try:\n",
    "    cleaned_data['OCCUPATION_TYPE'] = cleaned_data['OCCUPATION_TYPE'].cat.add_categories(['Not defined'])\n",
    "except:\n",
    "    pass\n",
    "    # вже в категоріях\n",
    "cleaned_data['OCCUPATION_TYPE'].fillna('Not defined', inplace=True)"
   ]
  },
  {
   "cell_type": "code",
   "execution_count": 34,
   "metadata": {},
   "outputs": [
    {
     "name": "stdout",
     "output_type": "stream",
     "text": [
      "NaN не залишилось\n"
     ]
    }
   ],
   "source": [
    "if len(cleaned_data.isna().sum().loc[cleaned_data.isna().sum() > 0].sort_values(ascending=True)) == 0:\n",
    "    print('NaN не залишилось')"
   ]
  },
  {
   "cell_type": "markdown",
   "metadata": {},
   "source": [
    "### Поділ датафрейму"
   ]
  },
  {
   "cell_type": "code",
   "execution_count": 35,
   "metadata": {},
   "outputs": [],
   "source": [
    "for col in [item for item in cleaned_data if cleaned_data[item].dtype == 'int32']:\n",
    "    cleaned_data[col] = cleaned_data[col].astype('int64')\n",
    "cleaned_data.reset_index(inplace=True, drop=True)"
   ]
  },
  {
   "cell_type": "code",
   "execution_count": 36,
   "metadata": {},
   "outputs": [],
   "source": [
    "metric_df = cleaned_data.loc[:,(np.array(cleaned_data.dtypes == \"float64\")) | (np.array(cleaned_data.dtypes == \"int64\"))].copy()\n",
    "non_metric_df = cleaned_data.loc[:,(np.array(cleaned_data.dtypes !=\"float64\")) & (np.array(cleaned_data.dtypes != \"int64\"))].copy()"
   ]
  },
  {
   "cell_type": "code",
   "execution_count": 37,
   "metadata": {},
   "outputs": [],
   "source": [
    "# перевірка ділення датафрейму на два\n",
    "assert (len(cleaned_data.columns) == len(metric_df.columns) + len(non_metric_df.columns))"
   ]
  },
  {
   "cell_type": "markdown",
   "metadata": {},
   "source": [
    "### Видалення викидів (метричні змінні)"
   ]
  },
  {
   "cell_type": "code",
   "execution_count": 38,
   "metadata": {},
   "outputs": [],
   "source": [
    "data = metric_df.copy()\n",
    "\n",
    "yj = prep.PowerTransformer(method='yeo-johnson')\n",
    "qt = prep.QuantileTransformer(n_quantiles=500, output_distribution='normal', random_state=np.random.RandomState(104))\n",
    "\n",
    "X_trans_yj = yj.fit_transform(data)\n",
    "X_trans_qt = qt.fit_transform(data)\n",
    "\n",
    "# Merging\n",
    "X_trans = np.concatenate((X_trans_yj, X_trans_qt), axis=1)\n",
    "\n",
    "# Creating DataFrame\n",
    "merge_labels = list(map(lambda x: \"yj_\" + x, data.columns.to_list()))+list(map(lambda x: \"qt_\" + x, data.columns.to_list()))\n",
    "trans_df = pd.DataFrame(X_trans, columns=merge_labels, index=data.index)"
   ]
  },
  {
   "cell_type": "code",
   "execution_count": 39,
   "metadata": {},
   "outputs": [],
   "source": [
    "transqt_df = trans_df.loc[:,[i for i in trans_df.columns.to_list() if \"qt\" in i]]\n",
    "transyj_df = trans_df.loc[:,[i for i in trans_df.columns.to_list() if \"yj\" in i]]"
   ]
  },
  {
   "cell_type": "code",
   "execution_count": 40,
   "metadata": {},
   "outputs": [],
   "source": [
    "# outlier definition with IQR\n",
    "def out_iqr(data, k=1.5, return_thresholds=False):\n",
    "    # calculate interquartile range\n",
    "    q25, q75 = np.percentile(data, 25, axis=0), np.percentile(data, 75, axis=0)\n",
    "    iqr = q75 - q25\n",
    "    # calculate the outlier cutoff\n",
    "    cut_off = iqr * k\n",
    "    lower, upper = q25 - cut_off, q75 + cut_off\n",
    "    if return_thresholds:\n",
    "        return lower, upper\n",
    "    else: # identify outliers\n",
    "        return data.apply(lambda x: np.any((x<lower) | (x>upper)), 1)\n",
    "\n",
    "outlier_labels = pd.concat([out_iqr(transyj_df, 2.5), out_iqr(transqt_df, 2.5)], axis=1)"
   ]
  },
  {
   "cell_type": "code",
   "execution_count": 41,
   "metadata": {},
   "outputs": [],
   "source": [
    "# multivariate Outliers (based on previous column-wise IQR)\n",
    "def out_mahalanobis(data, random, contamination=0.03):\n",
    "    n = data.shape[0]\n",
    "    df = data.shape[1]\n",
    "    # Obtain mahalanobis distance of each observation to the center and then sort it\n",
    "    ee_out = cov.EllipticEnvelope(contamination=0.04, support_fraction=0.95, random_state=np.random.RandomState(304)).fit(data)\n",
    "    mahalan = ee_out.mahalanobis(data)\n",
    "    # Obtain chi-square percentiles of each observations\n",
    "    quantiles = chi2.ppf(q=np.fromfunction(lambda x:(x-0.5)/n, (n,)), df=df)\n",
    "    # Obtain labels\n",
    "    labels = ee_out.predict(data)\n",
    "    \n",
    "    return mahalan, quantiles, labels\n",
    "\n",
    "mqt, qqt, lqt = out_mahalanobis(transqt_df, 0)\n",
    "myj, qyj, lyj = out_mahalanobis(transyj_df, 0)\n",
    "lqt_lyj = pd.DataFrame({'lqt': lqt, 'lyj': lyj})"
   ]
  },
  {
   "cell_type": "code",
   "execution_count": 42,
   "metadata": {},
   "outputs": [
    {
     "data": {
      "text/plain": [
       "'Outliers percentage: 6.14%'"
      ]
     },
     "execution_count": 42,
     "metadata": {},
     "output_type": "execute_result"
    }
   ],
   "source": [
    "# checking outliers precentage\n",
    "inl = lqt_lyj.loc[(lqt_lyj['lqt'] == 1) & (lqt_lyj['lyj'] == 1)].sum()['lqt']\n",
    "'Outliers percentage: {:4.2f}%'.format(100 - inl/len(lqt_lyj) * 100)"
   ]
  },
  {
   "cell_type": "code",
   "execution_count": 43,
   "metadata": {},
   "outputs": [],
   "source": [
    "# creating mask for outliers' drop\n",
    "lqt_lyj.loc[(lqt_lyj['lqt'] == 1) & (lqt_lyj['lyj'] == 1), 'mask'] = True\n",
    "lqt_lyj.fillna(False, inplace=True)\n",
    "lqt_lyj.drop(columns=['lqt', 'lyj'], inplace=True)"
   ]
  },
  {
   "cell_type": "code",
   "execution_count": 44,
   "metadata": {},
   "outputs": [
    {
     "data": {
      "text/html": [
       "<div>\n",
       "<style scoped>\n",
       "    .dataframe tbody tr th:only-of-type {\n",
       "        vertical-align: middle;\n",
       "    }\n",
       "\n",
       "    .dataframe tbody tr th {\n",
       "        vertical-align: top;\n",
       "    }\n",
       "\n",
       "    .dataframe thead th {\n",
       "        text-align: right;\n",
       "    }\n",
       "</style>\n",
       "<table border=\"1\" class=\"dataframe\">\n",
       "  <thead>\n",
       "    <tr style=\"text-align: right;\">\n",
       "      <th></th>\n",
       "      <th>mask</th>\n",
       "    </tr>\n",
       "  </thead>\n",
       "  <tbody>\n",
       "    <tr>\n",
       "      <th>0</th>\n",
       "      <td>True</td>\n",
       "    </tr>\n",
       "    <tr>\n",
       "      <th>1</th>\n",
       "      <td>True</td>\n",
       "    </tr>\n",
       "    <tr>\n",
       "      <th>2</th>\n",
       "      <td>True</td>\n",
       "    </tr>\n",
       "    <tr>\n",
       "      <th>3</th>\n",
       "      <td>True</td>\n",
       "    </tr>\n",
       "    <tr>\n",
       "      <th>4</th>\n",
       "      <td>True</td>\n",
       "    </tr>\n",
       "  </tbody>\n",
       "</table>\n",
       "</div>"
      ],
      "text/plain": [
       "   mask\n",
       "0  True\n",
       "1  True\n",
       "2  True\n",
       "3  True\n",
       "4  True"
      ]
     },
     "execution_count": 44,
     "metadata": {},
     "output_type": "execute_result"
    }
   ],
   "source": [
    "lqt_lyj.head(5)"
   ]
  },
  {
   "cell_type": "code",
   "execution_count": 45,
   "metadata": {},
   "outputs": [],
   "source": [
    "# setting and duplicating mask\n",
    "cleaned_data = cleaned_data.merge(lqt_lyj, left_index=True, right_index=True)\n",
    "try:\n",
    "    cleaned_data = cleaned_data.loc[cleaned_data['mask'] == True].copy()  \n",
    "except:\n",
    "    print('Mask was not set')"
   ]
  },
  {
   "cell_type": "code",
   "execution_count": 46,
   "metadata": {},
   "outputs": [],
   "source": [
    "# drop columns after outliers' definition in main dataframe (with outliers)\n",
    "cleaned_data.drop(columns=['mask'], inplace=True)"
   ]
  },
  {
   "cell_type": "code",
   "execution_count": 47,
   "metadata": {},
   "outputs": [
    {
     "name": "stdout",
     "output_type": "stream",
     "text": [
      "Кількість рядків після видалення метричних викидів 285829\n",
      "Після усіх перетворень видалено  21682  рядків\n"
     ]
    }
   ],
   "source": [
    "# defines number of deleted outliers\n",
    "rows_after_iqr = len(cleaned_data)\n",
    "print(\"Кількість рядків після видалення метричних викидів\", rows_after_iqr)\n",
    "print(\"Після усіх перетворень видалено \", len(df_train) - len(cleaned_data), ' рядків')"
   ]
  },
  {
   "cell_type": "markdown",
   "metadata": {},
   "source": [
    "### Видалення викидів (категорійні змінні)"
   ]
  },
  {
   "cell_type": "code",
   "execution_count": 48,
   "metadata": {},
   "outputs": [],
   "source": [
    "non_metric_df = cleaned_data.loc[:,(np.array(cleaned_data.dtypes !=\"float64\")) & (np.array(cleaned_data.dtypes != \"int64\"))].copy()\n",
    "\n",
    "# визначення категорійних викидів\n",
    "def get_freq(df, item):\n",
    "    df_g = df.groupby(item).count()\n",
    "    freq_dict = df_g[list(df_g.columns)[0]].to_dict()\n",
    "    total = sum(list(freq_dict.values()))\n",
    "    for key in freq_dict.keys():\n",
    "        freq_dict[key] /= total\n",
    "    return freq_dict\n",
    "\n",
    "def get_cat_outliers(f_dict):\n",
    "    outliers_coef = 0.01 # мінімально допустима частота значень\n",
    "    max_value_n = 50 # кількість унікальних значень\n",
    "    if len(f_dict.keys()) > max_value_n:\n",
    "        return []\n",
    "    max_value = max(list(f_dict.values()))\n",
    "    return [key for key in f_dict.keys() if f_dict[key] < outliers_coef * max_value]    \n",
    "\n",
    "# створення маски для неметричних викидів\n",
    "mask_dict = {item: get_cat_outliers(get_freq(non_metric_df, item)) for item in non_metric_df.columns.tolist()}"
   ]
  },
  {
   "cell_type": "code",
   "execution_count": 49,
   "metadata": {},
   "outputs": [],
   "source": [
    "# застосування маски\n",
    "for item in list(non_metric_df.columns):\n",
    "    non_metric_df[item] = non_metric_df[item].apply(lambda x: x in mask_dict[item])\n",
    "non_metric_df['summary'] = non_metric_df.eq(True).sum(axis=1)"
   ]
  },
  {
   "cell_type": "code",
   "execution_count": 50,
   "metadata": {},
   "outputs": [],
   "source": [
    "# видалення викидів\n",
    "cleaned_data['mask'] = non_metric_df['summary'].apply(lambda x: x>1)\n",
    "cleaned_data = cleaned_data.loc[cleaned_data['mask'] == False]\n",
    "cleaned_data.drop(columns=['mask'], inplace=True)"
   ]
  },
  {
   "cell_type": "code",
   "execution_count": 51,
   "metadata": {},
   "outputs": [
    {
     "name": "stdout",
     "output_type": "stream",
     "text": [
      "Кількість рядків після видалення категорійних викидів 283799\n",
      "Видалено  2030  rows\n"
     ]
    }
   ],
   "source": [
    "# підсумки видалення категорійних викидів\n",
    "print(\"Кількість рядків після видалення категорійних викидів\", len(cleaned_data))\n",
    "print(\"Видалено \", rows_after_iqr - len(cleaned_data), ' rows')"
   ]
  },
  {
   "cell_type": "markdown",
   "metadata": {},
   "source": [
    "### Вивчення мультиколінеарності метричних факторів"
   ]
  },
  {
   "cell_type": "code",
   "execution_count": 52,
   "metadata": {},
   "outputs": [
    {
     "data": {
      "image/png": "[encoded data removed]",
      "text/plain": [
       "<Figure size 504x504 with 2 Axes>"
      ]
     },
     "metadata": {},
     "output_type": "display_data"
    }
   ],
   "source": [
    "# correlation matrix plot with seaborn\n",
    "def plot_corr_matrix(metric_df, abs_apply=False, values=False, fig_size = (7, 7)):    \n",
    "    sns.set(style=\"white\")\n",
    "\n",
    "    # correlation matrix with pandas\n",
    "    corr = metric_df.corr()\n",
    "    if abs_apply == True:\n",
    "        corr = corr.apply(np.abs)\n",
    "    \n",
    "    # mask generation for upper triangle\n",
    "    mask = np.zeros_like(corr, dtype=np.bool) \n",
    "    mask[np.triu_indices_from(mask)] = True\n",
    "\n",
    "    # matplotlib figure\n",
    "    fig, ax = plt.subplots(figsize=fig_size)\n",
    "\n",
    "    # colormap generation\n",
    "    cmap = sns.diverging_palette(220, 10, as_cmap=True) #Make a diverging palette between two HUSL colors. Return a matplotlib colormap object.\n",
    "        \n",
    "    # seaborn heatmap, scale correlation\n",
    "    if values:\n",
    "        mask_annot = np.absolute(corr.values)>=0.70\n",
    "        annot_arr = np.where(mask_annot, corr.values.round(2), np.full(fig_size,\"\"))\n",
    "        sns.heatmap(corr, mask=mask, cmap=cmap, center=0, square=True, linewidths=.5, ax=ax, annot=annot_arr, fmt=\"s\")\n",
    "    else:\n",
    "        sns.heatmap(corr, mask=mask, cmap=cmap, center=0, square=True, linewidths=.5, ax=ax)\n",
    "\n",
    "    # show matplotlib figure\n",
    "    plt.subplots_adjust(top=0.95)\n",
    "    plt.suptitle(\"Матриця кореляції метричних змінних\", fontsize=20)\n",
    "    plt.yticks(rotation=0)\n",
    "    b, t = plt.ylim()\n",
    "    b += 0.5\n",
    "    t -= 0.5\n",
    "    plt.ylim(b, t)\n",
    "\n",
    "    plt.show()\n",
    "\n",
    "metric_df = cleaned_data.loc[:,(np.array(cleaned_data.dtypes == \"float64\")) | (np.array(cleaned_data.dtypes == \"int64\"))].copy()\n",
    "plot_corr_matrix(metric_df)"
   ]
  },
  {
   "cell_type": "code",
   "execution_count": 53,
   "metadata": {},
   "outputs": [],
   "source": [
    "try:\n",
    "    cleaned_data.drop(columns=['CNT_CHILDREN', 'OBS_60_CNT_SOCIAL_CIRCLE', 'AMT_GOODS_PRICE', 'AMT_ANNUITY'], inplace=True)\n",
    "except:\n",
    "    pass"
   ]
  },
  {
   "cell_type": "code",
   "execution_count": 93,
   "metadata": {},
   "outputs": [],
   "source": [
    "cleaned_data.to_pickle('cleaned_data.pkl')"
   ]
  },
  {
   "cell_type": "code",
   "execution_count": 96,
   "metadata": {},
   "outputs": [],
   "source": [
    "pd.DataFrame(cleaned_data.dtypes).to_pickle('cat.pkl')"
   ]
  },
  {
   "cell_type": "code",
   "execution_count": 97,
   "metadata": {},
   "outputs": [
    {
     "data": {
      "text/html": [
       "<div>\n",
       "<style scoped>\n",
       "    .dataframe tbody tr th:only-of-type {\n",
       "        vertical-align: middle;\n",
       "    }\n",
       "\n",
       "    .dataframe tbody tr th {\n",
       "        vertical-align: top;\n",
       "    }\n",
       "\n",
       "    .dataframe thead th {\n",
       "        text-align: right;\n",
       "    }\n",
       "</style>\n",
       "<table border=\"1\" class=\"dataframe\">\n",
       "  <thead>\n",
       "    <tr style=\"text-align: right;\">\n",
       "      <th></th>\n",
       "      <th>0</th>\n",
       "    </tr>\n",
       "  </thead>\n",
       "  <tbody>\n",
       "    <tr>\n",
       "      <th>TARGET</th>\n",
       "      <td>category</td>\n",
       "    </tr>\n",
       "    <tr>\n",
       "      <th>NAME_CONTRACT_TYPE</th>\n",
       "      <td>category</td>\n",
       "    </tr>\n",
       "    <tr>\n",
       "      <th>CODE_GENDER</th>\n",
       "      <td>category</td>\n",
       "    </tr>\n",
       "    <tr>\n",
       "      <th>FLAG_OWN_CAR</th>\n",
       "      <td>category</td>\n",
       "    </tr>\n",
       "    <tr>\n",
       "      <th>FLAG_OWN_REALTY</th>\n",
       "      <td>category</td>\n",
       "    </tr>\n",
       "    <tr>\n",
       "      <th>...</th>\n",
       "      <td>...</td>\n",
       "    </tr>\n",
       "    <tr>\n",
       "      <th>AMT_REQ_CREDIT_BUREAU_DAY</th>\n",
       "      <td>category</td>\n",
       "    </tr>\n",
       "    <tr>\n",
       "      <th>AMT_REQ_CREDIT_BUREAU_WEEK</th>\n",
       "      <td>category</td>\n",
       "    </tr>\n",
       "    <tr>\n",
       "      <th>AMT_REQ_CREDIT_BUREAU_MON</th>\n",
       "      <td>float64</td>\n",
       "    </tr>\n",
       "    <tr>\n",
       "      <th>AMT_REQ_CREDIT_BUREAU_QRT</th>\n",
       "      <td>float64</td>\n",
       "    </tr>\n",
       "    <tr>\n",
       "      <th>AMT_REQ_CREDIT_BUREAU_YEAR</th>\n",
       "      <td>float64</td>\n",
       "    </tr>\n",
       "  </tbody>\n",
       "</table>\n",
       "<p>69 rows × 1 columns</p>\n",
       "</div>"
      ],
      "text/plain": [
       "                                   0\n",
       "TARGET                      category\n",
       "NAME_CONTRACT_TYPE          category\n",
       "CODE_GENDER                 category\n",
       "FLAG_OWN_CAR                category\n",
       "FLAG_OWN_REALTY             category\n",
       "...                              ...\n",
       "AMT_REQ_CREDIT_BUREAU_DAY   category\n",
       "AMT_REQ_CREDIT_BUREAU_WEEK  category\n",
       "AMT_REQ_CREDIT_BUREAU_MON    float64\n",
       "AMT_REQ_CREDIT_BUREAU_QRT    float64\n",
       "AMT_REQ_CREDIT_BUREAU_YEAR   float64\n",
       "\n",
       "[69 rows x 1 columns]"
      ]
     },
     "execution_count": 97,
     "metadata": {},
     "output_type": "execute_result"
    }
   ],
   "source": [
    "pd.DataFrame(cleaned_data.dtypes)"
   ]
  }
 ],
 "metadata": {
  "kernelspec": {
   "display_name": "Python 3",
   "language": "python",
   "name": "python3"
  },
  "language_info": {
   "codemirror_mode": {
    "name": "ipython",
    "version": 3
   },
   "file_extension": ".py",
   "mimetype": "text/x-python",
   "name": "python",
   "nbconvert_exporter": "python",
   "pygments_lexer": "ipython3",
   "version": "3.9.2"
  }
 },
 "nbformat": 4,
 "nbformat_minor": 4
}
